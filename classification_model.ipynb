{
 "cells": [
  {
   "cell_type": "markdown",
   "id": "b33d7bd5",
   "metadata": {},
   "source": [
    "# <u style = \"color: red;\"><p style = \"color: red;\"> ***Classification Model*** </p></u> "
   ]
  },
  {
   "cell_type": "markdown",
   "id": "124d255d",
   "metadata": {},
   "source": [
    "### Imports"
   ]
  },
  {
   "cell_type": "code",
   "execution_count": 41,
   "id": "7ed400aa",
   "metadata": {},
   "outputs": [],
   "source": [
    "import pandas as pd\n",
    "import matplotlib.pyplot as plt\n",
    "import seaborn as sns\n",
    "from sklearn.preprocessing import OneHotEncoder, StandardScaler\n",
    "from sklearn.compose import ColumnTransformer\n",
    "from sklearn.linear_model import LogisticRegression\n",
    "from xgboost import XGBClassifier\n",
    "from sklearn.svm import SVC\n",
    "from sklearn.neighbors import KNeighborsClassifier\n",
    "from sklearn.ensemble import RandomForestClassifier\n",
    "from sklearn.model_selection import GridSearchCV\n",
    "from sklearn.metrics import classification_report, confusion_matrix"
   ]
  },
  {
   "cell_type": "code",
   "execution_count": 42,
   "id": "587c3357",
   "metadata": {},
   "outputs": [
    {
     "data": {
      "text/plain": [
       "treatment\n",
       "Yes    631\n",
       "No     619\n",
       "Name: count, dtype: int64"
      ]
     },
     "execution_count": 42,
     "metadata": {},
     "output_type": "execute_result"
    }
   ],
   "source": [
    "df = pd.read_csv('clean_data.csv')\n",
    "df['treatment'].value_counts()"
   ]
  },
  {
   "cell_type": "markdown",
   "id": "872bd705",
   "metadata": {},
   "source": [
    "### Params Grid for multiple models"
   ]
  },
  {
   "cell_type": "code",
   "execution_count": 43,
   "id": "d0f3bd90",
   "metadata": {},
   "outputs": [],
   "source": [
    "models = {\n",
    "    'LogReg': (LogisticRegression(random_state=42, max_iter=10000, penalty='l2', solver='lbfgs'), {\n",
    "        'C': [0.01, 0.1, 1, 10]\n",
    "    }),\n",
    "    'SVC': (SVC(random_state=42, kernel='rbf', C=10, gamma='scale'), {\n",
    "    }),\n",
    "    'KNN': (KNeighborsClassifier(), {\n",
    "        'n_neighbors': [3, 5, 7],\n",
    "        'weights': ['uniform', 'distance'],\n",
    "        'metric': ['euclidean', 'manhattan']\n",
    "    }),\n",
    "    'RF': (RandomForestClassifier(random_state=42), {\n",
    "        'n_estimators': [50, 100, 200],\n",
    "        'max_depth': [3, 5, 7, None]\n",
    "    }),\n",
    "    'XGB': (XGBClassifier(eval_metric='logloss', random_state=42), {  \n",
    "        'n_estimators': [50, 100, 200],\n",
    "        'learning_rate': [0.01, 0.1, 1.0],\n",
    "        'max_depth': [3, 5, 7]\n",
    "    })\n",
    "}"
   ]
  },
  {
   "cell_type": "markdown",
   "id": "7ffd7a71",
   "metadata": {},
   "source": [
    "### Splitting Data"
   ]
  },
  {
   "cell_type": "code",
   "execution_count": 44,
   "id": "0737fdc2",
   "metadata": {},
   "outputs": [],
   "source": [
    "from sklearn.model_selection import train_test_split\n",
    "\n",
    "X = df.drop(columns=['treatment'], axis=1)\n",
    "y = df['treatment'].map({'Yes': 1, 'No': 0})\n",
    "\n",
    "X_train, X_test, y_train, y_test = train_test_split(X, y, test_size=0.2, random_state=42)\n",
    "\n",
    "numeric_cols = ['Age']\n",
    "categorical_cols = X.drop(columns=['Age']).columns\n",
    "\n",
    "preprocessor = ColumnTransformer(transformers=[\n",
    "    ('num', StandardScaler(), numeric_cols),\n",
    "    ('cat', OneHotEncoder(handle_unknown='ignore'), categorical_cols)\n",
    "])\n",
    "\n",
    "X_train_encoded = preprocessor.fit_transform(X_train)\n",
    "X_test_encoded = preprocessor.transform(X_test)"
   ]
  },
  {
   "cell_type": "markdown",
   "id": "1481091b",
   "metadata": {},
   "source": [
    "### Fitting the Model"
   ]
  },
  {
   "cell_type": "code",
   "execution_count": 45,
   "id": "aea9efdd",
   "metadata": {},
   "outputs": [
    {
     "name": "stdout",
     "output_type": "stream",
     "text": [
      "LogReg Best Params: {'C': 0.1}\n",
      "LogReg Best CV Score: 0.725378382792604\n",
      "\n",
      "SVC Best Params: {}\n",
      "SVC Best CV Score: 0.6909245527612133\n",
      "\n",
      "KNN Best Params: {'metric': 'euclidean', 'n_neighbors': 7, 'weights': 'distance'}\n",
      "KNN Best CV Score: 0.6289816591040377\n",
      "\n",
      "RF Best Params: {'max_depth': None, 'n_estimators': 200}\n",
      "RF Best CV Score: 0.7480425377918831\n",
      "\n",
      "XGB Best Params: {'learning_rate': 0.01, 'max_depth': 3, 'n_estimators': 200}\n",
      "XGB Best CV Score: 0.752083385831377\n",
      "\n",
      "\n",
      "Best Model: XGB with F1 = 0.752083385831377\n"
     ]
    }
   ],
   "source": [
    "best_score = 0\n",
    "best_model = None\n",
    "best_name = None\n",
    "\n",
    "for name, (model, params) in models.items():\n",
    "    grid = GridSearchCV(model, param_grid=params, cv=5, scoring='f1', n_jobs=-1)\n",
    "    grid.fit(X_train_encoded, y_train)\n",
    "    print(f\"{name} Best Params: {grid.best_params_}\")\n",
    "    print(f\"{name} Best CV Score: {grid.best_score_}\\n\")\n",
    "    \n",
    "    if grid.best_score_ > best_score:\n",
    "        best_score = grid.best_score_\n",
    "        best_model = grid.best_estimator_\n",
    "        best_name = name\n",
    "\n",
    "print(f\"\\nBest Model: {best_name} with F1 = {best_score}\")"
   ]
  },
  {
   "cell_type": "markdown",
   "id": "6b46b3ad",
   "metadata": {},
   "source": [
    "### Evaluation of the model"
   ]
  },
  {
   "cell_type": "code",
   "execution_count": 46,
   "id": "91baabe8",
   "metadata": {},
   "outputs": [
    {
     "name": "stdout",
     "output_type": "stream",
     "text": [
      "              precision    recall  f1-score   support\n",
      "\n",
      "           0       0.76      0.78      0.77       115\n",
      "           1       0.81      0.79      0.80       135\n",
      "\n",
      "    accuracy                           0.78       250\n",
      "   macro avg       0.78      0.78      0.78       250\n",
      "weighted avg       0.78      0.78      0.78       250\n",
      "\n",
      "Accuracy: 78.400%\n"
     ]
    }
   ],
   "source": [
    "#Classification Report\n",
    "\n",
    "from sklearn.metrics import accuracy_score\n",
    "y_pred = best_model.predict(X_test_encoded)\n",
    "y_score = best_model.predict_proba(X_test_encoded)[:, 1]\n",
    "\n",
    "print(classification_report(y_test, y_pred))\n",
    "print(f\"Accuracy: {(accuracy_score(y_test, y_pred)*100):.3f}%\")"
   ]
  },
  {
   "cell_type": "code",
   "execution_count": 47,
   "id": "f8eec298",
   "metadata": {},
   "outputs": [
    {
     "data": {
      "image/png": "[encoded data removed]",
      "text/plain": [
       "<Figure size 640x480 with 2 Axes>"
      ]
     },
     "metadata": {},
     "output_type": "display_data"
    }
   ],
   "source": [
    "#Confusion Matrix\n",
    "\n",
    "cm = confusion_matrix(y_test, y_pred)\n",
    "labels = ['No', 'Yes']\n",
    "sns.heatmap(cm, annot=True, fmt='d', cmap='coolwarm', xticklabels=labels, yticklabels=labels)\n",
    "plt.xlabel(\"Predicted\")\n",
    "plt.ylabel(\"Actual\")\n",
    "plt.title(\"Seek Treatment?\")\n",
    "plt.show()"
   ]
  },
  {
   "cell_type": "code",
   "execution_count": 48,
   "id": "b9c5a799",
   "metadata": {},
   "outputs": [
    {
     "name": "stdout",
     "output_type": "stream",
     "text": [
      "ROC-AUC Score: 81.201%\n"
     ]
    }
   ],
   "source": [
    "#ROC-AUC Score\n",
    "\n",
    "from sklearn.metrics import roc_auc_score\n",
    "print(f\"ROC-AUC Score: {(roc_auc_score(y_test, y_score)*100):.3f}%\")"
   ]
  },
  {
   "cell_type": "code",
   "execution_count": 49,
   "id": "4274b913",
   "metadata": {},
   "outputs": [
    {
     "data": {
      "image/png": "[encoded data removed]",
      "text/plain": [
       "<Figure size 600x600 with 1 Axes>"
      ]
     },
     "metadata": {},
     "output_type": "display_data"
    }
   ],
   "source": [
    "#ROC Curve\n",
    "\n",
    "from sklearn.metrics import roc_curve, auc\n",
    "import matplotlib.pyplot as plt\n",
    "\n",
    "fpr, tpr, thresholds = roc_curve(y_test, y_score)\n",
    "roc_auc = auc(fpr, tpr)\n",
    "\n",
    "plt.figure(figsize=(6,6))\n",
    "plt.plot(fpr, tpr, label=f'ROC curve (AUC = {roc_auc:.2f})')\n",
    "plt.plot([0, 1], [0, 1], 'r--')\n",
    "plt.xlabel('False Positive Rate')\n",
    "plt.ylabel('True Positive Rate')\n",
    "plt.title('ROC Curve')\n",
    "plt.legend()\n",
    "plt.show()\n"
   ]
  },
  {
   "cell_type": "code",
   "execution_count": 50,
   "id": "5ceb08a0",
   "metadata": {},
   "outputs": [
    {
     "data": {
      "text/plain": [
       "['classification_preprocessor.pkl']"
      ]
     },
     "execution_count": 50,
     "metadata": {},
     "output_type": "execute_result"
    }
   ],
   "source": [
    "import joblib\n",
    "joblib.dump(best_model, 'classification_model.pkl')\n",
    "joblib.dump(preprocessor, 'classification_preprocessor.pkl')"
   ]
  },
  {
   "cell_type": "markdown",
   "id": "0c344612",
   "metadata": {},
   "source": [
    "### Conclusion:-"
   ]
  },
  {
   "cell_type": "markdown",
   "id": "ee9eec02",
   "metadata": {},
   "source": [
    "The XG Boost classifier model gave the best results, this can be inferred by comparing the scores of all models.\n",
    "\n",
    "\n",
    "F1 = 0.752083385831377\n",
    "\n",
    "\n",
    "Accuracy: 78.400%\n",
    "\n",
    "\n",
    "ROC-AUC Score: 81.201%"
   ]
  }
 ],
 "metadata": {
  "kernelspec": {
   "display_name": "Python 3",
   "language": "python",
   "name": "python3"
  },
  "language_info": {
   "codemirror_mode": {
    "name": "ipython",
    "version": 3
   },
   "file_extension": ".py",
   "mimetype": "text/x-python",
   "name": "python",
   "nbconvert_exporter": "python",
   "pygments_lexer": "ipython3",
   "version": "3.12.5"
  }
 },
 "nbformat": 4,
 "nbformat_minor": 5
}
