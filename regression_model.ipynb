{
 "cells": [
  {
   "cell_type": "markdown",
   "id": "f2918b54",
   "metadata": {},
   "source": [
    "# <u style = \"color: blue;\"><p style = \"color: blue;\"> ***Regression Model*** </p></u> "
   ]
  },
  {
   "cell_type": "markdown",
   "id": "f5991796",
   "metadata": {},
   "source": [
    "### Imports"
   ]
  },
  {
   "cell_type": "code",
   "execution_count": 30,
   "id": "ddb7853e",
   "metadata": {},
   "outputs": [],
   "source": [
    "import pandas as pd\n",
    "import seaborn as sns\n",
    "from sklearn.linear_model import Ridge, Lasso, ElasticNet\n",
    "from sklearn.ensemble import RandomForestRegressor\n",
    "from sklearn.svm import SVR\n",
    "from sklearn.neighbors import KNeighborsRegressor\n",
    "from xgboost import XGBRegressor\n",
    "from sklearn.model_selection import GridSearchCV\n",
    "from sklearn.preprocessing import OneHotEncoder\n",
    "from sklearn.compose import ColumnTransformer\n",
    "from sklearn.metrics import r2_score, mean_absolute_error, root_mean_squared_error\n"
   ]
  },
  {
   "cell_type": "markdown",
   "id": "c3a92faa",
   "metadata": {},
   "source": [
    "### Making a grid for multiple models to evaluate them at once"
   ]
  },
  {
   "cell_type": "code",
   "execution_count": 31,
   "id": "a076b7f0",
   "metadata": {},
   "outputs": [],
   "source": [
    "models = {\n",
    "    'Ridge': (Ridge(random_state=42), {\n",
    "        'alpha': [0.01, 0.1, 1, 10, 100]\n",
    "    }),\n",
    "    'Lasso': (Lasso(random_state=42), {\n",
    "        'alpha': [0.001, 0.01, 0.1, 1, 10]\n",
    "    }),\n",
    "    'Elastic': (ElasticNet(random_state=42), {\n",
    "        \"alpha\": [0.001, 0.01, 0.1, 1, 10],\n",
    "        \"l1_ratio\": [0.1, 0.3, 0.5, 0.7, 0.9]\n",
    "    }),\n",
    "    'SVR':(SVR(kernel='rbf', C=10, gamma='scale', epsilon=0.1), {\n",
    "    }),\n",
    "    'RF': (RandomForestRegressor(random_state=42), {\n",
    "        'n_estimators': [50, 100, 200],\n",
    "        'max_depth': [3, 5, 7, None]\n",
    "    }),\n",
    "    \n",
    "    'KNN': (KNeighborsRegressor(), {\n",
    "        'n_neighbors': [3, 5, 7, 9],\n",
    "        'weights': ['uniform', 'distance'],\n",
    "        'p': [1, 2]\n",
    "    }),\n",
    "    'XGB': (XGBRegressor(eval_metric='logloss'), {\n",
    "        'n_estimators': [50, 100, 200],\n",
    "        'learning_rate': [0.01, 0.05, 0.1],\n",
    "        'max_depth': [3, 5, 7],\n",
    "    })\n",
    "}\n"
   ]
  },
  {
   "cell_type": "markdown",
   "id": "b01681b2",
   "metadata": {},
   "source": [
    "### Loading the dataset"
   ]
  },
  {
   "cell_type": "code",
   "execution_count": 32,
   "id": "d838fb54",
   "metadata": {},
   "outputs": [],
   "source": [
    "df = pd.read_csv('clean_data.csv')"
   ]
  },
  {
   "cell_type": "code",
   "execution_count": 33,
   "id": "bec6edd6",
   "metadata": {},
   "outputs": [],
   "source": [
    "from sklearn.model_selection import train_test_split\n",
    "\n",
    "X = df.drop(columns=['Age', 'Age_log'], axis=1)\n",
    "y = df['Age']\n",
    "\n",
    "X_train, X_test, y_train, y_test = train_test_split(X, y, test_size=0.2, random_state=42)\n",
    "\n",
    "categorical_cols = X_train.columns\n",
    "\n",
    "preprocessor = ColumnTransformer([\n",
    "    ('cat', OneHotEncoder(handle_unknown='ignore'), categorical_cols)\n",
    "])\n",
    "\n",
    "X_train_encoded = preprocessor.fit_transform(X_train)\n",
    "X_test_encoded = preprocessor.transform(X_test)"
   ]
  },
  {
   "cell_type": "markdown",
   "id": "bbc4e327",
   "metadata": {},
   "source": [
    "### Checking the performance of all models"
   ]
  },
  {
   "cell_type": "code",
   "execution_count": 34,
   "id": "a825cb18",
   "metadata": {},
   "outputs": [
    {
     "name": "stdout",
     "output_type": "stream",
     "text": [
      "\n",
      "Ridge Processing...\n",
      "Ridge Best Params: {'alpha': 100}\n",
      "Ridge Best Score: 0.07090437207291325\n",
      "\n",
      "Lasso Processing...\n",
      "Lasso Best Params: {'alpha': 0.1}\n",
      "Lasso Best Score: 0.06445819816270804\n",
      "\n",
      "Elastic Processing...\n",
      "Elastic Best Params: {'alpha': 0.1, 'l1_ratio': 0.3}\n",
      "Elastic Best Score: 0.07078298709601656\n",
      "\n",
      "SVR Processing...\n",
      "SVR Best Params: {}\n",
      "SVR Best Score: 0.013222759990994227\n",
      "\n",
      "RF Processing...\n",
      "RF Best Params: {'max_depth': 7, 'n_estimators': 100}\n",
      "RF Best Score: 0.040791720357292525\n",
      "\n",
      "KNN Processing...\n",
      "KNN Best Params: {'n_neighbors': 9, 'p': 2, 'weights': 'uniform'}\n",
      "KNN Best Score: -0.024845999894550785\n",
      "\n",
      "XGB Processing...\n",
      "XGB Best Params: {'learning_rate': 0.1, 'max_depth': 3, 'n_estimators': 50}\n",
      "XGB Best Score: 0.06743408441543579\n",
      "\n",
      "Best Model: Ridge with R2 = 0.07090437207291325\n"
     ]
    }
   ],
   "source": [
    "best_score = 0\n",
    "best_model = None\n",
    "best_name = None\n",
    "\n",
    "for name, (model, params) in models.items():\n",
    "    print(f\"\\n{name} Processing...\")\n",
    "    grid = GridSearchCV(model, param_grid=params, scoring='r2', n_jobs=-1)\n",
    "    grid.fit(X_train_encoded, y_train)\n",
    "    print(f\"{name} Best Params: {grid.best_params_}\")\n",
    "    print(f\"{name} Best Score: {grid.best_score_}\")\n",
    "    \n",
    "    if grid.best_score_ > best_score:\n",
    "        best_score = grid.best_score_\n",
    "        best_model = grid.best_estimator_\n",
    "        best_name = name\n",
    "\n",
    "print(f\"\\nBest Model: {best_name} with R2 = {best_score}\")"
   ]
  },
  {
   "cell_type": "markdown",
   "id": "db9d1110",
   "metadata": {},
   "source": [
    "### Evaluating the model"
   ]
  },
  {
   "cell_type": "code",
   "execution_count": 35,
   "id": "cd182c7f",
   "metadata": {},
   "outputs": [
    {
     "name": "stdout",
     "output_type": "stream",
     "text": [
      "R2_Score:  0.05189627534332486\n",
      "MAE:  5.4122502689239536\n",
      "RMSE:  7.042636876899095\n"
     ]
    },
    {
     "data": {
      "image/png": "[encoded data removed]",
      "text/plain": [
       "<Figure size 640x480 with 1 Axes>"
      ]
     },
     "metadata": {},
     "output_type": "display_data"
    }
   ],
   "source": [
    "import matplotlib.pyplot as plt\n",
    "import seaborn as sns\n",
    "\n",
    "y_pred = best_model.predict(X_test_encoded)\n",
    "\n",
    "print('R2_Score: ', r2_score(y_test, y_pred))\n",
    "print('MAE: ', mean_absolute_error(y_test, y_pred))\n",
    "print('RMSE: ', root_mean_squared_error(y_test, y_pred))\n",
    "\n",
    "sns.scatterplot(x=y_test, y=y_pred)\n",
    "plt.plot([y.min(), y.max()], [y.min(), y.max()], 'r--')\n",
    "plt.xlabel(\"Actual Values\")\n",
    "plt.ylabel(\"Predicted Values\")\n",
    "plt.title(\"Actual vs Predicted\")\n",
    "plt.show()\n"
   ]
  },
  {
   "cell_type": "markdown",
   "id": "5f174366",
   "metadata": {},
   "source": [
    "### Exporting the model"
   ]
  },
  {
   "cell_type": "code",
   "execution_count": 36,
   "id": "54276926",
   "metadata": {},
   "outputs": [
    {
     "data": {
      "text/plain": [
       "['regression_model.pkl']"
      ]
     },
     "execution_count": 36,
     "metadata": {},
     "output_type": "execute_result"
    }
   ],
   "source": [
    "import joblib\n",
    "joblib.dump(best_model, 'regression_model.pkl')"
   ]
  },
  {
   "cell_type": "markdown",
   "id": "401a155d",
   "metadata": {},
   "source": [
    "### Conclusion:-"
   ]
  },
  {
   "cell_type": "markdown",
   "id": "dfe39e57",
   "metadata": {},
   "source": [
    "The Ridge model gave the best results, this can be inferred by comparing the scores of all models.\n",
    "\n",
    "\n",
    "R2_Score:  0.05189627534332486\n",
    "\n",
    "\n",
    "MAE:  5.4122502689239536\n",
    "\n",
    "\n",
    "RMSE:  7.042636876899095\n"
   ]
  }
 ],
 "metadata": {
  "kernelspec": {
   "display_name": "Python 3",
   "language": "python",
   "name": "python3"
  },
  "language_info": {
   "codemirror_mode": {
    "name": "ipython",
    "version": 3
   },
   "file_extension": ".py",
   "mimetype": "text/x-python",
   "name": "python",
   "nbconvert_exporter": "python",
   "pygments_lexer": "ipython3",
   "version": "3.12.5"
  }
 },
 "nbformat": 4,
 "nbformat_minor": 5
}
